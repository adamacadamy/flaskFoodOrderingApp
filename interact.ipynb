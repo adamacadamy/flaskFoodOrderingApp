{
 "cells": [
  {
   "cell_type": "code",
   "execution_count": null,
   "metadata": {},
   "outputs": [],
   "source": [
    "!pip install requests  --break-system-packages"
   ]
  },
  {
   "cell_type": "code",
   "execution_count": 2,
   "metadata": {},
   "outputs": [],
   "source": [
    "BASE_URL = \"http://127.0.0.1:5000\" #\"http://localhost:5000\""
   ]
  },
  {
   "cell_type": "code",
   "execution_count": 6,
   "metadata": {},
   "outputs": [
    {
     "data": {
      "text/plain": [
       "{'message': 'Menu item added successfully'}"
      ]
     },
     "metadata": {},
     "output_type": "display_data"
    }
   ],
   "source": [
    "from http import HTTPStatus\n",
    "import requests\n",
    "\n",
    "\n",
    "menu_url = f\"{BASE_URL}/menu\"\n",
    "payload = {\"name\": \"habesha zigni\", \"price\":10.4}\n",
    "\n",
    "response = requests.post(url=menu_url, json=payload)\n",
    "\n",
    "status_code = response.status_code\n",
    "\n",
    "if status_code == HTTPStatus.CREATED:\n",
    "    display(response.json())"
   ]
  },
  {
   "cell_type": "code",
   "execution_count": 7,
   "metadata": {},
   "outputs": [
    {
     "data": {
      "text/plain": [
       "[{'id': 1, 'name': 'sudanese fool', 'price': 20.4},\n",
       " {'id': 2, 'name': 'habesha zigni', 'price': 10.4}]"
      ]
     },
     "metadata": {},
     "output_type": "display_data"
    }
   ],
   "source": [
    "from http import HTTPStatus\n",
    "import requests\n",
    "\n",
    "menu_url = f\"{BASE_URL}/menu\" \n",
    "\n",
    "response = requests.get(url=menu_url)\n",
    "\n",
    "status_code = response.status_code\n",
    "\n",
    "if status_code == HTTPStatus.OK:\n",
    "    display(response.json())"
   ]
  },
  {
   "cell_type": "code",
   "execution_count": 12,
   "metadata": {},
   "outputs": [
    {
     "data": {
      "text/plain": [
       "{'message': 'Order placed successfully', 'order_id': 1}"
      ]
     },
     "metadata": {},
     "output_type": "display_data"
    }
   ],
   "source": [
    "from http import HTTPStatus\n",
    "import requests\n",
    "\n",
    "order_url = f\"{BASE_URL}/order\"\n",
    "\n",
    "payload = {\"customer_name\": \"Amanuel\", \"items\": [1, 2]}\n",
    "response = requests.post(url=order_url, json=payload)\n",
    "\n",
    "status_code = response.status_code\n",
    "\n",
    "if status_code == HTTPStatus.CREATED:\n",
    "    display(response.json())"
   ]
  },
  {
   "cell_type": "code",
   "execution_count": null,
   "metadata": {},
   "outputs": [],
   "source": [
    "from http import HTTPStatus\n",
    "import requests\n",
    "\n",
    "order_url = f\"{BASE_URL}/order\" \n",
    "\n",
    "response = requests.get(url=order_url)\n",
    "\n",
    "status_code = response.status_code\n",
    "\n",
    "if status_code == HTTPStatus.OK:\n",
    "    display(response.json())"
   ]
  }
 ],
 "metadata": {
  "kernelspec": {
   "display_name": ".venv",
   "language": "python",
   "name": "python3"
  },
  "language_info": {
   "codemirror_mode": {
    "name": "ipython",
    "version": 3
   },
   "file_extension": ".py",
   "mimetype": "text/x-python",
   "name": "python",
   "nbconvert_exporter": "python",
   "pygments_lexer": "ipython3",
   "version": "3.11.2"
  }
 },
 "nbformat": 4,
 "nbformat_minor": 2
}
